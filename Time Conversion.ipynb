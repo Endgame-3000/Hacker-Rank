{
 "cells": [
  {
   "cell_type": "code",
   "execution_count": null,
   "metadata": {},
   "outputs": [],
   "source": [
    "#!/bin/python3\n",
    "\n",
    "import os\n",
    "import sys\n",
    "\n",
    "def timeConversion(s):\n",
    "    new=''\n",
    "    new12=0\n",
    "    if s[8] in \"Aa\":\n",
    "        if (s[0]+s[1]=='12'):\n",
    "            new='00'+s[2:8]\n",
    "        else:\n",
    "            new=s[0:8]\n",
    "    elif s[8] in 'Pp':\n",
    "        if (s[0]+s[1]=='12'):\n",
    "            new='12'+s[2:8]\n",
    "        else:\n",
    "            new12=str(12+int(s[0:2]))\n",
    "            new=new12+s[2:8]\n",
    "\n",
    "\n",
    "    return new\n",
    "if __name__ == '__main__':\n",
    "    f = open(os.environ['OUTPUT_PATH'], 'w')\n",
    "\n",
    "    s = input()\n",
    "\n",
    "    result = timeConversion(s)\n",
    "\n",
    "    f.write(result + '\\n')\n",
    "\n",
    "    f.close()\n"
   ]
  }
 ],
 "metadata": {
  "kernelspec": {
   "display_name": "Python 3",
   "language": "python",
   "name": "python3"
  },
  "language_info": {
   "codemirror_mode": {
    "name": "ipython",
    "version": 3
   },
   "file_extension": ".py",
   "mimetype": "text/x-python",
   "name": "python",
   "nbconvert_exporter": "python",
   "pygments_lexer": "ipython3",
   "version": "3.7.3"
  }
 },
 "nbformat": 4,
 "nbformat_minor": 2
}
