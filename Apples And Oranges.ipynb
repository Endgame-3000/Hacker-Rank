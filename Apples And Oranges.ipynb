{
 "cells": [
  {
   "cell_type": "code",
   "execution_count": null,
   "metadata": {},
   "outputs": [],
   "source": [
    "#!/bin/python3\n",
    "\n",
    "import math\n",
    "import os\n",
    "import random\n",
    "import re\n",
    "import sys\n",
    "\n",
    "def countApplesAndOranges(s, t, a, b, apples, oranges):\n",
    "    applecount=0\n",
    "    orngcount=0\n",
    "    m=len(apples)\n",
    "    n=len(oranges)\n",
    "    for  i in range(0,m):\n",
    "        if (a+apples[i]) in range(s,t+1):\n",
    "            applecount+=1\n",
    "    for  i in range(0,n):\n",
    "        if (b+oranges[i]) in range(s,t+1):\n",
    "            orngcount+=1\n",
    "    print(applecount)\n",
    "    print(orngcount)\n",
    "if __name__ == '__main__':\n",
    "    st = input().split()\n",
    "\n",
    "    s = int(st[0])\n",
    "\n",
    "    t = int(st[1])\n",
    "\n",
    "    ab = input().split()\n",
    "\n",
    "    a = int(ab[0])\n",
    "\n",
    "    b = int(ab[1])\n",
    "\n",
    "    mn = input().split()\n",
    "\n",
    "    m = int(mn[0])\n",
    "\n",
    "    n = int(mn[1])\n",
    "\n",
    "    apples = list(map(int, input().rstrip().split()))\n",
    "\n",
    "    oranges = list(map(int, input().rstrip().split()))\n",
    "\n",
    "    countApplesAndOranges(s, t, a, b, apples, oranges)\n"
   ]
  }
 ],
 "metadata": {
  "kernelspec": {
   "display_name": "Python 3",
   "language": "python",
   "name": "python3"
  },
  "language_info": {
   "codemirror_mode": {
    "name": "ipython",
    "version": 3
   },
   "file_extension": ".py",
   "mimetype": "text/x-python",
   "name": "python",
   "nbconvert_exporter": "python",
   "pygments_lexer": "ipython3",
   "version": "3.7.3"
  }
 },
 "nbformat": 4,
 "nbformat_minor": 2
}
