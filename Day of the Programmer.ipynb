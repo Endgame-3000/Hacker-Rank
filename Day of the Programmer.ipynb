{
 "cells": [
  {
   "cell_type": "code",
   "execution_count": null,
   "metadata": {},
   "outputs": [],
   "source": [
    " #!/bin/python3\n",
    "\n",
    "import math\n",
    "import os\n",
    "import random\n",
    "import re\n",
    "import sys\n",
    "\n",
    "def dayOfProgrammer(year):\n",
    "    m=''\n",
    "    if year in range(1700,1918):\n",
    "        if (year%4==0):\n",
    "            m='12.09.'+str(year)\n",
    "        else:\n",
    "            m='13.09.'+str(year)\n",
    "    elif(year==1918):\n",
    "        m='26.09.'+str(year)\n",
    "    elif(1918<year<2701):\n",
    "        if (year==2000 or year==2400):\n",
    "            m='12.09.'+str(year)\n",
    "        elif(year%4==0 and year%100!=0):\n",
    "            m='12.09.'+str(year)\n",
    "        else:\n",
    "            m='13.09.'+str(year)\n",
    "    return m\n",
    "        \n",
    "if __name__ == '__main__':\n",
    "    fptr = open(os.environ['OUTPUT_PATH'], 'w')\n",
    "\n",
    "    year = int(input().strip())\n",
    "\n",
    "    result = dayOfProgrammer(year)\n",
    "\n",
    "    fptr.write(result + '\\n')\n",
    "\n",
    "    fptr.close()\n"
   ]
  }
 ],
 "metadata": {
  "kernelspec": {
   "display_name": "Python 3",
   "language": "python",
   "name": "python3"
  },
  "language_info": {
   "codemirror_mode": {
    "name": "ipython",
    "version": 3
   },
   "file_extension": ".py",
   "mimetype": "text/x-python",
   "name": "python",
   "nbconvert_exporter": "python",
   "pygments_lexer": "ipython3",
   "version": "3.7.3"
  }
 },
 "nbformat": 4,
 "nbformat_minor": 2
}
