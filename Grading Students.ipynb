{
 "cells": [
  {
   "cell_type": "code",
   "execution_count": null,
   "metadata": {},
   "outputs": [],
   "source": [
    " #!/bin/python3\n",
    "\n",
    "import math\n",
    "import os\n",
    "import random\n",
    "import re\n",
    "import sys\n",
    "def gradingStudents(grades):\n",
    "    newgrades=[]\n",
    "    rem=0\n",
    "    for i in range(0,len(grades)):\n",
    "        if(grades[i]>37):\n",
    "            rem=5-(grades[i]%5)\n",
    "            if (rem<3):\n",
    "                newgrades.append(grades[i]+rem)\n",
    "            else:\n",
    "                newgrades.append(grades[i])\n",
    "        else:\n",
    "            newgrades.append(grades[i])\n",
    " \n",
    "\n",
    "    for i in range(0,len(newgrades)):\n",
    "        print(newgrades[i])\n",
    "\n",
    "count= int(input())\n",
    "\n",
    "grades = []\n",
    "\n",
    "for _ in range(count):\n",
    "    item= int(input().strip())\n",
    "    grades.append(item)\n",
    "result=gradingStudents(grades)\n"
   ]
  }
 ],
 "metadata": {
  "kernelspec": {
   "display_name": "Python 3",
   "language": "python",
   "name": "python3"
  },
  "language_info": {
   "codemirror_mode": {
    "name": "ipython",
    "version": 3
   },
   "file_extension": ".py",
   "mimetype": "text/x-python",
   "name": "python",
   "nbconvert_exporter": "python",
   "pygments_lexer": "ipython3",
   "version": "3.7.3"
  }
 },
 "nbformat": 4,
 "nbformat_minor": 2
}
