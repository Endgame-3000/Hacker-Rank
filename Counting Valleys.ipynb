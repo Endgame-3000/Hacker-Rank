{
 "cells": [
  {
   "cell_type": "code",
   "execution_count": 4,
   "metadata": {},
   "outputs": [
    {
     "name": "stdout",
     "output_type": "stream",
     "text": [
      "8 \n",
      "UDDDUDUU\n",
      "1\n"
     ]
    }
   ],
   "source": [
    "#!/bin/python3\n",
    "\n",
    "import math\n",
    "import os\n",
    "import random\n",
    "import re\n",
    "import sys\n",
    "\n",
    "def countingValleys(n, s):\n",
    "    valley=0\n",
    "    pos=0\n",
    "    for i in range(len(s)):\n",
    "        if s[i] in 'Uu':\n",
    "            pos+=1\n",
    "            if (pos==0):\n",
    "                valley+=1\n",
    "        else:\n",
    "            pos-=1\n",
    "    return valley\n",
    "\n",
    "\n",
    "if __name__ == '__main__':\n",
    "\n",
    "    n = int(input())\n",
    "\n",
    "    s = input()\n",
    "\n",
    "    result = countingValleys(n,s)\n",
    "    print (result)\n"
   ]
  },
  {
   "cell_type": "code",
   "execution_count": null,
   "metadata": {},
   "outputs": [],
   "source": []
  }
 ],
 "metadata": {
  "kernelspec": {
   "display_name": "Python 3",
   "language": "python",
   "name": "python3"
  },
  "language_info": {
   "codemirror_mode": {
    "name": "ipython",
    "version": 3
   },
   "file_extension": ".py",
   "mimetype": "text/x-python",
   "name": "python",
   "nbconvert_exporter": "python",
   "pygments_lexer": "ipython3",
   "version": "3.7.3"
  }
 },
 "nbformat": 4,
 "nbformat_minor": 2
}
