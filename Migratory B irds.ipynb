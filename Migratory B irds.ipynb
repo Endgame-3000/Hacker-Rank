{
 "cells": [
  {
   "cell_type": "code",
   "execution_count": null,
   "metadata": {},
   "outputs": [],
   "source": [
    "#!/bin/python3\n",
    "\n",
    "import math\n",
    "import os\n",
    "import random\n",
    "import re\n",
    "import sys\n",
    "\n",
    "# Complete the migratoryBirds function below.\n",
    "def migratoryBirds(arr):\n",
    "    dick={}\n",
    "    for i in range(0,len(arr)):\n",
    "        if(arr[i]) in dick:\n",
    "            dick[arr[i]]+=1\n",
    "        else:\n",
    "            dick[arr[i]]=0\n",
    "            dick[arr[i]]+=1\n",
    "    maxm=max(dick.values())\n",
    "    keys=[*dick]\n",
    "    newlst=[]\n",
    "    for i in range(len(keys)):\n",
    "        if((dick[keys[i]])==maxm):\n",
    "            newlst.append(keys[i])\n",
    "    mn=newlst[0]\n",
    "    for i in range(len(newlst)-1):\n",
    "        if(newlst[i+1]<newlst[i]):\n",
    "            mn=newlst[i+1]\n",
    "    return mn\n",
    "\n",
    "\n",
    "if __name__ == '__main__':\n",
    "\n",
    "    arr_count = int(input().strip())\n",
    "\n",
    "    arr = list(map(int, input().rstrip().split()))\n",
    "\n",
    "    result = migratoryBirds(arr)\n",
    "    print(result)\n",
    "\n"
   ]
  }
 ],
 "metadata": {
  "kernelspec": {
   "display_name": "Python 3",
   "language": "python",
   "name": "python3"
  },
  "language_info": {
   "codemirror_mode": {
    "name": "ipython",
    "version": 3
   },
   "file_extension": ".py",
   "mimetype": "text/x-python",
   "name": "python",
   "nbconvert_exporter": "python",
   "pygments_lexer": "ipython3",
   "version": "3.7.3"
  }
 },
 "nbformat": 4,
 "nbformat_minor": 2
}
