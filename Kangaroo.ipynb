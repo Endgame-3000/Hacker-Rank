{
 "cells": [
  {
   "cell_type": "code",
   "execution_count": null,
   "metadata": {},
   "outputs": [],
   "source": [
    "#!/bin/python3\n",
    "\n",
    "import math\n",
    "import os\n",
    "import random\n",
    "import re\n",
    "import sys\n",
    "\n",
    "# Complete the kangaroo function below.\n",
    "def kangaroo(x1, v1, x2, v2):\n",
    "    i=1\n",
    "    x1new=x1\n",
    "    x2new=x2\n",
    "    if (x1<x2)and(v1<v2):\n",
    "        print('NO')\n",
    "    elif (x1!=x2)and(v1==v2):\n",
    "        print('NO')\n",
    "    else:\n",
    "        while(1<2):\n",
    "            x1new+=v1\n",
    "            x2new+=v2\n",
    "            if (x1new==x2new):\n",
    "                print('YES')\n",
    "                break\n",
    "            elif(x1new<x2new)and(v1<v2):\n",
    "                print('NO')\n",
    "                break\n",
    "            elif(x1new>x2new)and(v1>v2):\n",
    "                print('NO')\n",
    "                break\n",
    "            \n",
    "            \n",
    "    \n",
    "\n",
    "\n",
    "if __name__ == '__main__':\n",
    "\n",
    "    x1V1X2V2 = input().split()\n",
    "\n",
    "    x1 = int(x1V1X2V2[0])\n",
    "\n",
    "    v1 = int(x1V1X2V2[1])\n",
    "\n",
    "    x2 = int(x1V1X2V2[2])\n",
    "\n",
    "    v2 = int(x1V1X2V2[3])\n",
    "\n",
    "    result = kangaroo(x1, v1, x2, v2)\n"
   ]
  }
 ],
 "metadata": {
  "kernelspec": {
   "display_name": "Python 3",
   "language": "python",
   "name": "python3"
  },
  "language_info": {
   "codemirror_mode": {
    "name": "ipython",
    "version": 3
   },
   "file_extension": ".py",
   "mimetype": "text/x-python",
   "name": "python",
   "nbconvert_exporter": "python",
   "pygments_lexer": "ipython3",
   "version": "3.7.3"
  }
 },
 "nbformat": 4,
 "nbformat_minor": 2
}
