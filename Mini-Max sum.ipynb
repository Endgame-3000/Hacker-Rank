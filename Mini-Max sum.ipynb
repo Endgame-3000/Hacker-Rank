{
 "cells": [
  {
   "cell_type": "code",
   "execution_count": null,
   "metadata": {},
   "outputs": [],
   "source": [
    "def miniMaxSum(arr):\n",
    "    mylist=[]\n",
    "    for i in range(0,len(arr)):\n",
    "        summ=0\n",
    "        for j in range(0,len(arr)):\n",
    "            if(i!=j):\n",
    "                summ+=arr[j]\n",
    "            else:\n",
    "                summ=summ\n",
    "        mylist.append(summ)\n",
    "    mx=mylist[0]\n",
    "    mn=mylist[0]\n",
    "    for i in range(len(mylist)-1):\n",
    "        if (mylist[i+1]>mx):\n",
    "            mx=mylist[i+1]\n",
    "        if (mylist[i+1]<mn):\n",
    "            mn=mylist[i+1]\n",
    "    lst=[mn,mx]\n",
    "    print(lst[0],lst[1])\n",
    "arr = list(map(int, input().rstrip().split()))\n",
    "\n",
    "miniMaxSum(arr)\n"
   ]
  }
 ],
 "metadata": {
  "kernelspec": {
   "display_name": "Python 3",
   "language": "python",
   "name": "python3"
  },
  "language_info": {
   "codemirror_mode": {
    "name": "ipython",
    "version": 3
   },
   "file_extension": ".py",
   "mimetype": "text/x-python",
   "name": "python",
   "nbconvert_exporter": "python",
   "pygments_lexer": "ipython3",
   "version": "3.7.3"
  }
 },
 "nbformat": 4,
 "nbformat_minor": 2
}
